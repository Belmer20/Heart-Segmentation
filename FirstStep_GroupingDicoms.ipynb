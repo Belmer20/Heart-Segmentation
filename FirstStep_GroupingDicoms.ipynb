{
 "cells": [
  {
   "cell_type": "markdown",
   "metadata": {},
   "source": [
    "## Grouping dicoms into 90 dicom for each image "
   ]
  },
  {
   "cell_type": "code",
   "execution_count": 41,
   "metadata": {},
   "outputs": [],
   "source": [
    "# the goal here is to group the slices of each image (patient) into groups of similar size than to reconvert it into niftii again\n",
    "in_path = \"C:/Users/TRETEC/Desktop/Segmenetation/Task02_Heart/dicom_file/images\"\n",
    "out_path =\"C:/Users/TRETEC/Desktop/Segmenetation/Task02_Heart/dicom_groups/images\""
   ]
  },
  {
   "cell_type": "code",
   "execution_count": 44,
   "metadata": {},
   "outputs": [],
   "source": [
    "from glob import glob  # for paths \n",
    "import shutil  # for file and directory management \n"
   ]
  },
  {
   "cell_type": "code",
   "execution_count": 37,
   "metadata": {},
   "outputs": [],
   "source": [
    "import os "
   ]
  },
  {
   "cell_type": "code",
   "execution_count": 54,
   "metadata": {},
   "outputs": [],
   "source": [
    "for patient in sorted(glob(in_path + '/*')) : \n",
    "    patient_name = os.path.basename (os.path.normpath(patient)) \n",
    "    number_folders = int(len(glob(patient + '/*')) / 90 ) # 90 is the number of slices we want to be in each group \n",
    "\n",
    "    for i in range(number_folders):\n",
    "        output_path_name = os.path.join(out_path, patient_name + '_' + str(i))\n",
    "        os.mkdir(output_path_name)\n",
    "        \n",
    "        for j , file in enumerate(sorted(glob(patient+ '/*'))): \n",
    "           if j == 90 + 1 : \n",
    "              break \n",
    "              \n",
    "           shutil.move(file , output_path_name)"
   ]
  },
  {
   "cell_type": "code",
   "execution_count": null,
   "metadata": {},
   "outputs": [],
   "source": [
    "#redo it with labels "
   ]
  },
  {
   "cell_type": "code",
   "execution_count": 4,
   "metadata": {},
   "outputs": [],
   "source": [
    "in_path_images = 'C:/Users/TRETEC/Desktop/Segmenetation/Task02_Heart/dicom_groups/images/*'\n",
    "\n",
    "in_path_labels = 'C:/Users/TRETEC/Desktop/Segmenetation/Task02_Heart/dicom_groups/labels/*'\n",
    "list_images = glob(in_path_images) ## returns the list  of paths found in 'in_path_images'\n",
    "list_labels = glob (in_path_labels)"
   ]
  },
  {
   "cell_type": "code",
   "execution_count": 5,
   "metadata": {},
   "outputs": [
    {
     "data": {
      "text/plain": [
       "['C:/Users/TRETEC/Desktop/Segmenetation/Task02_Heart/dicom_groups/images\\\\h_003_0',\n",
       " 'C:/Users/TRETEC/Desktop/Segmenetation/Task02_Heart/dicom_groups/images\\\\h_004_0',\n",
       " 'C:/Users/TRETEC/Desktop/Segmenetation/Task02_Heart/dicom_groups/images\\\\h_005_0',\n",
       " 'C:/Users/TRETEC/Desktop/Segmenetation/Task02_Heart/dicom_groups/images\\\\h_007_0',\n",
       " 'C:/Users/TRETEC/Desktop/Segmenetation/Task02_Heart/dicom_groups/images\\\\h_009_0',\n",
       " 'C:/Users/TRETEC/Desktop/Segmenetation/Task02_Heart/dicom_groups/images\\\\h_010_0',\n",
       " 'C:/Users/TRETEC/Desktop/Segmenetation/Task02_Heart/dicom_groups/images\\\\h_011_0',\n",
       " 'C:/Users/TRETEC/Desktop/Segmenetation/Task02_Heart/dicom_groups/images\\\\h_014_0',\n",
       " 'C:/Users/TRETEC/Desktop/Segmenetation/Task02_Heart/dicom_groups/images\\\\h_016_0',\n",
       " 'C:/Users/TRETEC/Desktop/Segmenetation/Task02_Heart/dicom_groups/images\\\\h_017_0',\n",
       " 'C:/Users/TRETEC/Desktop/Segmenetation/Task02_Heart/dicom_groups/images\\\\h_018_0',\n",
       " 'C:/Users/TRETEC/Desktop/Segmenetation/Task02_Heart/dicom_groups/images\\\\h_019_0',\n",
       " 'C:/Users/TRETEC/Desktop/Segmenetation/Task02_Heart/dicom_groups/images\\\\h_020_0',\n",
       " 'C:/Users/TRETEC/Desktop/Segmenetation/Task02_Heart/dicom_groups/images\\\\h_021_0',\n",
       " 'C:/Users/TRETEC/Desktop/Segmenetation/Task02_Heart/dicom_groups/images\\\\h_022_0',\n",
       " 'C:/Users/TRETEC/Desktop/Segmenetation/Task02_Heart/dicom_groups/images\\\\h_023_0',\n",
       " 'C:/Users/TRETEC/Desktop/Segmenetation/Task02_Heart/dicom_groups/images\\\\h_024_0',\n",
       " 'C:/Users/TRETEC/Desktop/Segmenetation/Task02_Heart/dicom_groups/images\\\\h_026_0',\n",
       " 'C:/Users/TRETEC/Desktop/Segmenetation/Task02_Heart/dicom_groups/images\\\\h_029_0',\n",
       " 'C:/Users/TRETEC/Desktop/Segmenetation/Task02_Heart/dicom_groups/images\\\\h_030_0']"
      ]
     },
     "execution_count": 5,
     "metadata": {},
     "output_type": "execute_result"
    }
   ],
   "source": [
    "list_images"
   ]
  }
 ],
 "metadata": {
  "kernelspec": {
   "display_name": "Python 3",
   "language": "python",
   "name": "python3"
  },
  "language_info": {
   "codemirror_mode": {
    "name": "ipython",
    "version": 3
   },
   "file_extension": ".py",
   "mimetype": "text/x-python",
   "name": "python",
   "nbconvert_exporter": "python",
   "pygments_lexer": "ipython3",
   "version": "3.10.11"
  }
 },
 "nbformat": 4,
 "nbformat_minor": 2
}
